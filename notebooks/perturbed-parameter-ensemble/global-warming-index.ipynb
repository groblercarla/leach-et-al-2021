{
 "cells": [
  {
   "cell_type": "markdown",
   "id": "damaged-insider",
   "metadata": {},
   "source": [
    "## Import dependencies"
   ]
  },
  {
   "cell_type": "code",
   "execution_count": 2,
   "id": "attended-repository",
   "metadata": {},
   "outputs": [],
   "source": [
    "import numpy as np\n",
    "import sys\n",
    "import pandas as pd\n",
    "import matplotlib.pyplot as plt\n",
    "import seaborn as sn\n",
    "import scipy as sp\n",
    "from tqdm import tqdm\n",
    "import glob\n",
    "import xarray as xr\n",
    "\n",
    "# from fair import *\n",
    "# from fair.scripts.stats import *\n",
    "\n",
    "%matplotlib inline"
   ]
  },
  {
   "cell_type": "code",
   "execution_count": 3,
   "id": "d495d115",
   "metadata": {},
   "outputs": [],
   "source": [
    "# change directory to the notebook direcotory\n",
    "import os\n",
    "os.chdir('/home/carlau/ACAI_testing/create_temperature_ensamble/leach-et-al-2021/notebooks/perturbed-parameter-ensemble')\n",
    "\n",
    "\n",
    "import sys\n",
    "sys.path.append('/home/carlau/ACAI_testing/create_temperature_ensamble/leach-et-al-2021/fair/')\n",
    "sys.path.append('/home/carlau/ACAI_testing/create_temperature_ensamble/leach-et-al-2021/fair/scripts')\n",
    "\n",
    "from fair_runner import *\n",
    "from stats import *"
   ]
  },
  {
   "cell_type": "markdown",
   "id": "diagnostic-assist",
   "metadata": {},
   "source": [
    "# Calculation of the global warming index\n",
    "\n",
    "Here we compute an estimate of the present-day contribution of anthropogenic forcing to the observed change in Global Mean Surface Temperature, taking key uncertainties into account. This estimate follows the methodology of Haustein et al., 2017.\n",
    "\n",
    "References:\n",
    "\n",
    "Haustein, K., Allen, M. R., Forster, P. M., Otto, F. E. L., Mitchell, D. M., Matthews, H. D., & Frame, D. J. (2017). A real-time Global Warming Index. Scientific Reports, 7(1), 15417. https://doi.org/10.1038/s41598-017-14828-5"
   ]
  },
  {
   "cell_type": "markdown",
   "id": "foster-primary",
   "metadata": {},
   "source": [
    "## Generate forcing shapes\n",
    "Here we generate a wide range of anthropogenic and natural forcing timeseries, sampling uncertainties in each component independently following Forster et al., 2013.\n",
    "\n",
    "References:\n",
    "\n",
    "Forster, P. M., Andrews, T., Good, P., Gregory, J. M., Jackson, L. S., & Zelinka, M. (2013). Evaluating adjusted forcing and model spread for historical and future scenarios in the CMIP5 generation of climate models. Journal of Geophysical Research: Atmospheres, 118(3), 1139–1150. https://doi.org/10.1002/jgrd.50174\n",
    "\n",
    "Myhre, G., Shindell, D., Bréon, F.-M., Collins, W., Fuglestvedt, J., Huang, J., … Zhang, H. (2013). Anthropogenic and Natural Radiative Forcing. In T. F. Stocker, D. Qin, G.-K. Plattner, M. Tignor, S. K. Allen, J. Boschung, … P. M. Midgley (Eds.), Climate Change 2013: The Physical Science Basis. Contribution of Working Group I to the Fifth Assessment Report of the Intergovernmental Panel on Climate Change (pp. 659–740). https://doi.org/10.1017/CBO9781107415324.018"
   ]
  },
  {
   "cell_type": "code",
   "execution_count": 3,
   "id": "north-complex",
   "metadata": {},
   "outputs": [],
   "source": [
    "## import base data:\n",
    "erf_ar6 = pd.read_csv('https://raw.githubusercontent.com/Priestley-Centre/ssp_erf/master/SSPs/ERF_ssp245_1750-2500.csv',index_col=0,dtype=float)\n",
    "erf_ar6 -= erf_ar6.loc[1750]\n",
    "\n",
    "## update ozone to Skeie et al. 2021\n",
    "def get_skeie_ts(fname):\n",
    "    data = pd.read_csv(fname,skiprows=3,sep=';',index_col=0)['NET adj.']\n",
    "    data.index = [int(x[:4]) for x in data.index]\n",
    "    data.name = fname.split('/')[-1].split('_')[2]\n",
    "    return data/1000\n",
    "\n",
    "skeie_files = glob.glob('../../aux/input-data/_hidden/histO3/Kernel_output/TotRF/CMIP6/*.csv')\n",
    "\n",
    "skeie_o3_data = pd.concat([get_skeie_ts(x) for x in skeie_files],axis=1)\n",
    "\n",
    "oslo_CTM_data = get_skeie_ts('../../aux/input-data/_hidden/histO3/Kernel_output/TotRF/OsloCTM3/RF_NRFmethod_OsloCTM3_net_yearly.csv')\n",
    "skeie_o3_data = pd.concat([skeie_o3_data,oslo_CTM_data],axis=1)\n",
    "\n",
    "good_models = ['BCC-ESM1', 'CESM2-WACCM', 'GFDL-ESM4', 'GISS-E2-1-H', 'MRI-ESM2-0', 'OsloCTM3']\n",
    "\n",
    "# take multi-model mean of \"good\" models\n",
    "skeie_o3_ts = skeie_o3_data[good_models].mean(axis=1).replace(np.nan,0)\n",
    "skeie_o3_ts.loc[1750] = -0.03\n",
    "skeie_o3_ts -= skeie_o3_ts.loc[1750]\n",
    "skeie_o3_ts.sort_index(inplace=True)\n",
    "\n",
    "# remove OsloCTM3 bias relative to MMM for 2014-> data\n",
    "skeie_o3_ts.loc[2014:] += skeie_o3_data.loc[2010,good_models].mean() - skeie_o3_data.loc[2010,'OsloCTM3']\n",
    "\n",
    "## combine & drop previous ozone estimates\n",
    "erf_ar6 = erf_ar6.loc[1750:2019]\n",
    "erf_ar6.loc[:,'ozone'] = skeie_o3_ts.reindex(np.arange(1750,2021)).interpolate().loc[1750:2019]\n",
    "erf_ar6.drop(['o3_tropospheric','o3_stratospheric'],axis=1,inplace=True)"
   ]
  },
  {
   "cell_type": "code",
   "execution_count": 4,
   "id": "informal-serum",
   "metadata": {},
   "outputs": [],
   "source": [
    "## creating a forcing response dataset\n",
    "\n",
    "def generate_forcing(N):\n",
    "    \n",
    "    ## generating many rf shapes for the GWI\n",
    "\n",
    "    rf_factors = {}\n",
    "\n",
    "    rf_factors['co2'] = sp.stats.norm(1,0.20/1.645).rvs(N)\n",
    "    rf_factors['ch4'] = sp.stats.norm(1,0.28/1.645).rvs(N)\n",
    "    rf_factors['n2o'] = sp.stats.norm(1,0.2/1.645).rvs(N)\n",
    "    rf_factors['other_wmghg'] = sp.stats.norm(1,0.20/1.645).rvs(N)\n",
    "    rf_factors['ozone'] = sp.stats.norm(1,0.5/1.645).rvs(N)\n",
    "    rf_factors['h2o_stratospheric'] = sp.stats.norm(1,0.72/1.645).rvs(N)\n",
    "    rf_factors['contrails'] = sp.stats.norm(1,0.75/1.645).rvs(N)\n",
    "    rf_factors['land_use'] = sp.stats.norm(1,0.75/1.645).rvs(N)\n",
    "    rf_factors['volcanic'] = sp.stats.norm(1,0.5/1.645).rvs(N)\n",
    "    rf_factors['solar'] = sp.stats.norm(1,1/1.645).rvs(N)\n",
    "\n",
    "    pct_5 = 0.04 / 0.08\n",
    "    pct_95 = 0.18 / 0.08\n",
    "    sigma = (np.log(pct_95) - np.log(pct_5)) / (sp.stats.norm().ppf(0.95)-sp.stats.norm().ppf(0.05))\n",
    "    mu = np.log(pct_5) - sigma * sp.stats.norm().ppf(0.05)\n",
    "    rf_factors['bc_on_snow'] = sp.stats.lognorm(s=sigma,scale=np.exp(mu)).rvs(N)\n",
    "\n",
    "    ant_rf_ensemble = np.zeros((270,N))\n",
    "    nat_rf_ensemble = np.zeros((270,N))\n",
    "\n",
    "    for agent in ['co2','ch4','n2o','other_wmghg','ozone','h2o_stratospheric','contrails','land_use','bc_on_snow']:\n",
    "        ant_rf_ensemble += rf_factors[agent]*erf_ar6.loc[1750:2019,agent].values[:,None]\n",
    "\n",
    "    for agent in ['volcanic','solar']:\n",
    "        nat_rf_ensemble += rf_factors[agent]*erf_ar6.loc[1750:2019,agent].values[:,None]\n",
    "\n",
    "    ## aerosol distribution \n",
    "\n",
    "    ERFari_shape = erf_ar6.loc[1750:2019,['aerosol-radiation_interactions']].values.T\n",
    "    ERFaci_shape = erf_ar6.loc[1750:2019,['aerosol-cloud_interactions']].values.T\n",
    "\n",
    "    ## construct the Smith distributions \n",
    "    def fit_skewnorm(x,X,percentiles):\n",
    "        distr = sp.stats.skewnorm(*x)\n",
    "        return sum(abs(distr.ppf(percentiles) - X))\n",
    "\n",
    "    ERFaci_smith_sknorm_params = sp.optimize.minimize(fit_skewnorm,x0=[1,1,1],args=([0.13,0.59,1.17],[0.05,0.5,0.95]),method='nelder-mead').x\n",
    "    ERFari_smith_sknorm_params = sp.optimize.minimize(fit_skewnorm,x0=[1,1,1],args=([0.07,0.27,0.6],[0.05,0.5,0.95]),method='nelder-mead').x\n",
    "\n",
    "    ERFaci_smith_sknorm_distr = -1*sp.stats.skewnorm(*ERFaci_smith_sknorm_params).rvs(N)[:,None]\n",
    "    ERFari_smith_sknorm_distr = -1*sp.stats.skewnorm(*ERFari_smith_sknorm_params).rvs(N)[:,None]\n",
    "\n",
    "    ERFari_samples = ERFari_smith_sknorm_distr / ERFari_shape[0,-1] * ERFari_shape\n",
    "    ERFaci_samples = ERFaci_smith_sknorm_distr / ERFaci_shape[0,-1] * ERFaci_shape\n",
    "    \n",
    "    tot_aer = (ERFari_samples+ERFaci_samples).T\n",
    "\n",
    "    ## Combine all anthro forcings\n",
    "    ant_rf_ensemble += tot_aer\n",
    "    \n",
    "    ## \n",
    "    rf_nat = pd.DataFrame(nat_rf_ensemble,index=np.arange(1750,2020),columns=pd.MultiIndex.from_product([['forcing_'+str(x) for x in np.arange(N)],['forcing']])).loc[:2019]\n",
    "\n",
    "    rf_ant = pd.DataFrame(ant_rf_ensemble,index=np.arange(1750,2020),columns=pd.MultiIndex.from_product([['forcing_'+str(x) for x in np.arange(N)],['forcing']])).loc[:2019]\n",
    "    \n",
    "    return rf_ant,rf_nat"
   ]
  },
  {
   "cell_type": "code",
   "execution_count": 5,
   "id": "still-albania",
   "metadata": {},
   "outputs": [
    {
     "data": {
      "text/plain": [
       "<AxesSubplot:>"
      ]
     },
     "execution_count": 5,
     "metadata": {},
     "output_type": "execute_result"
    },
    {
     "data": {
      "image/png": "[encoded data removed]",
      "text/plain": [
       "<Figure size 576x216 with 2 Axes>"
      ]
     },
     "metadata": {
      "needs_background": "light"
     },
     "output_type": "display_data"
    }
   ],
   "source": [
    "# set the number of forcing shapes to use\n",
    "N_forc = 5000\n",
    "\n",
    "rf_ant,rf_nat = generate_forcing(N_forc)\n",
    "\n",
    "fig,ax = plt.subplots(1,2,figsize=(8,3))\n",
    "\n",
    "rf_ant.plot(ax=ax[0],lw=0.02,c='k',legend=None)\n",
    "rf_nat.plot(ax=ax[1],lw=0.02,c='k',legend=None)"
   ]
  },
  {
   "cell_type": "markdown",
   "id": "vital-brisbane",
   "metadata": {},
   "source": [
    "## Generate response parameters\n",
    "Here we generate a range of response model parameters, aiming to sample the full range of behaviours exhibited. To do this, we sample a range of response timescales, and realised warming fractions. These ranges correspond approximately to the parameter ranges observed within CMIP5/6."
   ]
  },
  {
   "cell_type": "code",
   "execution_count": 6,
   "id": "therapeutic-daily",
   "metadata": {},
   "outputs": [],
   "source": [
    "def generate_response_params():\n",
    "\n",
    "    ## create the response parameter ranges:\n",
    "\n",
    "    ### based on inferred ranges from CMIP6 - 18 combinations total\n",
    "    response_names = ['response_'+str(x) for x in np.arange(24)]\n",
    "    response_params = pd.DataFrame(index=['d','q'],columns = pd.MultiIndex.from_product([response_names,[1,2,3]])).apply(pd.to_numeric)\n",
    "    response_params.loc[:] = 0\n",
    "\n",
    "    d1_range = [0.2,0.8,1.4,2]\n",
    "    d2_range = [4,8,12,16]\n",
    "    d3_range = [100,200,400,800]\n",
    "    q1_range = [0.04,0.16,0.28,0.4]\n",
    "\n",
    "    RWF_range = [0.3 , 0.4 , 0.5, 0.6, 0.7, 0.8]\n",
    "    ECS=3\n",
    "\n",
    "    i=0\n",
    "    for d_num in np.arange(4):\n",
    "        for RWF in RWF_range:\n",
    "            response_params.loc['d',(response_names[i],1)] = d1_range[d_num]\n",
    "            response_params.loc['d',(response_names[i],2)] = d2_range[d_num]\n",
    "            response_params.loc['d',(response_names[i],3)] = d3_range[d_num]\n",
    "            response_params.loc['q',(response_names[i],1)] = q1_range[d_num]\n",
    "\n",
    "            v1 = (1-(d1_range[d_num]/69.66) * (1-np.exp(-69.66/d1_range[d_num])) )\n",
    "            v2 = (1-(d2_range[d_num]/69.66) * (1-np.exp(-69.66/d2_range[d_num])) )\n",
    "            v3 = (1-(d3_range[d_num]/69.66) * (1-np.exp(-69.66/d3_range[d_num])) )\n",
    "            \n",
    "            TCR = RWF * ECS\n",
    "            F_2x = 3.76\n",
    "            \n",
    "            q3 = (((TCR/F_2x) - q1_range[d_num]*(v1-v2) - (ECS/F_2x)*v2) / (v3-v2))\n",
    "            q2 = (ECS/F_2x - q1_range[d_num] -  q3)\n",
    "\n",
    "            response_params.loc['q',(response_names[i],2)] = q2\n",
    "            response_params.loc['q',(response_names[i],3)] = q3\n",
    "\n",
    "            i+=1\n",
    "\n",
    "    ## remove any that are unphysical (negative parameters)\n",
    "\n",
    "    response_params = response_params.reindex([i for i,x in ((response_params<0).sum().unstack().sum(axis=1)==1).iteritems() if not x],axis=1,level=0)\n",
    "    \n",
    "    return response_params"
   ]
  },
  {
   "cell_type": "code",
   "execution_count": 7,
   "id": "casual-advice",
   "metadata": {},
   "outputs": [],
   "source": [
    "response_params = generate_response_params()"
   ]
  },
  {
   "cell_type": "markdown",
   "id": "legendary-means",
   "metadata": {},
   "source": [
    "## Generate temperature profiles\n",
    "Run the forcing shapes generated over the range of impulse-response model parameters."
   ]
  },
  {
   "cell_type": "code",
   "execution_count": 8,
   "id": "fleet-private",
   "metadata": {},
   "outputs": [
    {
     "name": "stdout",
     "output_type": "stream",
     "text": [
      "Integrating 5000 scenarios, 1 gas cycle parameter sets, 18 thermal response parameter sets, over ['carbon_dioxide'] forcing agents, between 1750 and 2019...\n"
     ]
    },
    {
     "name": "stderr",
     "output_type": "stream",
     "text": [
      " 20%|██        | 54/269 [00:00<00:03, 57.15 timestep/s]"
     ]
    },
    {
     "name": "stderr",
     "output_type": "stream",
     "text": [
      "100%|██████████| 269/269 [00:04<00:00, 56.93 timestep/s]\n"
     ]
    },
    {
     "name": "stdout",
     "output_type": "stream",
     "text": [
      "Integrating 5000 scenarios, 1 gas cycle parameter sets, 18 thermal response parameter sets, over ['carbon_dioxide'] forcing agents, between 1750 and 2019...\n"
     ]
    },
    {
     "name": "stderr",
     "output_type": "stream",
     "text": [
      "100%|██████████| 269/269 [00:04<00:00, 56.81 timestep/s]\n"
     ]
    }
   ],
   "source": [
    "## generate the temperature responses:\n",
    "\n",
    "null_gas_params = pd.read_csv('../../aux/parameter-sets/Complete_gas_cycle_params.csv',header=[0,1],index_col=0).reindex(['carbon_dioxide'],axis=1,level=1)\n",
    "##\n",
    "temp_ant = run_FaIR(emissions_in=return_empty_emissions(rf_ant,gases_in=['carbon_dioxide']),gas_parameters=null_gas_params,forcing_in=rf_ant,thermal_parameters=response_params)['T'].droplevel(1,axis=1)\n",
    "temp_nat = run_FaIR(emissions_in=return_empty_emissions(rf_nat,gases_in=['carbon_dioxide']),gas_parameters=null_gas_params,forcing_in=rf_nat,thermal_parameters=response_params)['T'].droplevel(1,axis=1)"
   ]
  },
  {
   "cell_type": "markdown",
   "id": "oriented-career",
   "metadata": {},
   "source": [
    "### save temperature series to netcdfs for combination with OLSE coefficients later"
   ]
  },
  {
   "cell_type": "code",
   "execution_count": 9,
   "id": "international-converter",
   "metadata": {},
   "outputs": [],
   "source": [
    "xr.DataArray(temp_ant.values,\n",
    "             dims=['time','index'],\n",
    "             coords=dict(time=pd.to_datetime(temp_ant.index.astype('str')),index=temp_ant.columns)).unstack('index').rename({'Scenario':'forcing_mem','Thermal set':'response_mem'}).to_netcdf('../../aux/output-data/global-warming-index/ant_temperature.nc')\n",
    "\n",
    "xr.DataArray(temp_nat.values,\n",
    "             dims=['time','index'],\n",
    "             coords=dict(time=pd.to_datetime(temp_ant.index.astype('str')),index=temp_ant.columns)).unstack('index').rename({'Scenario':'forcing_mem','Thermal set':'response_mem'}).to_netcdf('../../aux/output-data/global-warming-index/nat_temperature.nc')"
   ]
  },
  {
   "cell_type": "markdown",
   "id": "flying-qualification",
   "metadata": {},
   "source": [
    "### Retrieve CMIP6 internal variability & subsample\n",
    "\n",
    "We generate many samples of internal variability from CMIP6 piControl simulations. We reject the samples if the drift is greater than 0.15 K / century. Overall, we generate 102 samples of internal variability of the same length as our observational GMST datasets, two samples (drawn at random from the piControl) from each of the 51 CMIP6 models available."
   ]
  },
  {
   "cell_type": "code",
   "execution_count": 10,
   "id": "streaming-violence",
   "metadata": {},
   "outputs": [],
   "source": [
    "## computing the uncertainty from internal variability\n",
    "\n",
    "def generate_IV(series_length=170):\n",
    "    ### get internal variability timeseries:\n",
    "\n",
    "    piControl_data = pd.read_csv('../../aux/input-data/CMIP6/piControl.csv',index_col=0)\n",
    "    for i,x in enumerate(['source','member','variable']):\n",
    "        piControl_data.loc[x] = [x.split('_')[i+1] for x in piControl_data.columns]\n",
    "\n",
    "    CMIP6_int_var=piControl_data.T.set_index(['source','member','variable']).T.xs('tas',axis=1,level=-1).apply(pd.to_numeric)\n",
    "\n",
    "    ### subsample 100 * 170 year slices\n",
    "    ### check if drift, discard if drift > 0.15 K / century\n",
    "    ### randomly pick one non-drifting sample\n",
    "\n",
    "    CMIP6_int_var_samples = pd.DataFrame(index=np.arange(series_length))\n",
    "    for model,data in CMIP6_int_var.iteritems():\n",
    "        arr = data.dropna().values\n",
    "        chunksize = arr.size\n",
    "        if chunksize<series_length:\n",
    "            continue\n",
    "        starting_points = np.random.choice(np.arange(chunksize-series_length),100)\n",
    "        nodrift_points = []\n",
    "        for s in starting_points:\n",
    "            subarr = arr[s:s+series_length]\n",
    "            drift = sp.stats.linregress(np.arange(series_length),subarr).slope\n",
    "            if abs(drift)*100>0.15:\n",
    "                continue\n",
    "            else:\n",
    "                nodrift_points+=[s]\n",
    "        chosen_start = np.random.choice(nodrift_points)\n",
    "        index_name = '_'.join(list(model))+'_'+str(chosen_start)\n",
    "        CMIP6_int_var_samples.loc[:,index_name] = arr[chosen_start:chosen_start+series_length] - arr[chosen_start:chosen_start+series_length].mean()\n",
    "\n",
    "    ### remove model degeneracies (take first member of each model):\n",
    "    models = []\n",
    "    chosen_members = []\n",
    "    for model,data in CMIP6_int_var_samples.dropna(axis=1).iteritems():\n",
    "        if model.split('_')[0] in models:\n",
    "            continue\n",
    "        else:\n",
    "            chosen_members+=[model]\n",
    "            models+=[model.split('_')[0]]\n",
    "\n",
    "    return CMIP6_int_var_samples[chosen_members]"
   ]
  },
  {
   "cell_type": "code",
   "execution_count": 11,
   "id": "phantom-density",
   "metadata": {},
   "outputs": [
    {
     "data": {
      "text/plain": [
       "<AxesSubplot:>"
      ]
     },
     "execution_count": 11,
     "metadata": {},
     "output_type": "execute_result"
    },
    {
     "data": {
      "image/png": "[encoded data removed]",
      "text/plain": [
       "<Figure size 432x288 with 1 Axes>"
      ]
     },
     "metadata": {
      "needs_background": "light"
     },
     "output_type": "display_data"
    }
   ],
   "source": [
    "# 50 members seems insufficient to fully span the range of internal variability uncertainty, so we randomly sample from each model twice\n",
    "CMIP6_int_var_samples_nondeg = pd.concat([generate_IV(),generate_IV()],axis=1)\n",
    "CMIP6_int_var_samples_nondeg.index = np.arange(1850,2020)\n",
    "\n",
    "CMIP6_int_var_samples_nondeg.plot(legend=None,lw=0.1,c='k')"
   ]
  },
  {
   "cell_type": "markdown",
   "id": "retained-webster",
   "metadata": {},
   "source": [
    "## Choose and import the observational temperature dataset (updated to start of 2021)\n",
    "\n",
    "Available datasets are below. We add uncertainty from the HadCRUT5 ensemble to non-ensemble products (GISTEMP, NOAA & Berkeley) as this represents the most conservative estimate of uncertainty.\n",
    "\n",
    "[GISTEMP](https://data.giss.nasa.gov/gistemp/) - single series, augment with HadCRUT5 ensemble\n",
    "- ERSSTv5 + GHCNv4\n",
    "\n",
    "[NOAA](https://www.ncei.noaa.gov/data/noaa-global-surface-temperature/v5/access/timeseries/) - single series, augment with HadCRUT5 ensemble\n",
    "- ERSSTv5 + GHCNv4\n",
    "\n",
    "[BERKELEY](http://berkeleyearth.org/data/) - singles series, augment with HadCRUT5 ensemble\n",
    "- HadSST3 + Berkeley land\n",
    "\n",
    "[CW](https://www-users.york.ac.uk/~kdc3/papers/coverage2013/series.html) - 99 (100) member ensemble\n",
    "- infilled HadCRUT4\n",
    "\n",
    "[HadCRUT5](http://data.ceda.ac.uk/badc/ukmo-hadobs/data/insitu/MOHC/HadOBS/HadCRUT/HadCRUT5/analysis/diagnostics) - 200 member ensemble\n",
    "- HadSST4 + CRUTEM5\n",
    "\n",
    "[HadCRUT4](https://www.metoffice.gov.uk/hadobs/hadcrut4/data/current/download.html) - 100 member ensemble\n",
    "- HadSST3 + CRUTEM4\n",
    "\n",
    "References:\n",
    "\n",
    "Morice, C. P., Kennedy, J. J., Rayner, N. A., Winn, J. P., Hogan, E., Killick, R. E., … Simpson, I. R. (2020). An updated assessment of near‐surface temperature change from 1850: the HadCRUT5 dataset. Journal of Geophysical Research: Atmospheres. https://doi.org/10.1029/2019JD032361\n",
    "\n",
    "Morice, C. P., Kennedy, J. J., Rayner, N. A., Jones, P. D., P., M. C., J., K. J., … D., J. P. (2011). Quantifying uncertainties in global and regional temperature change using an ensemble of observational estimates: The HadCRUT4 data set. Journal of Geophysical Research: Atmospheres, 117(D8). https://doi.org/10.1029/2011JD017187\n",
    "\n",
    "Cowtan, K., & Way, R. G. (2014). Coverage bias in the HadCRUT4 temperature series and its impact on recent temperature trends. Quarterly Journal of the Royal Meteorological Society, 140(683), 1935–1944. https://doi.org/10.1002/qj.2297\n",
    "\n",
    "Lenssen, N. J. L., Schmidt, G. A., Hansen, J. E., Menne, M. J., Persin, A., Ruedy, R., & Zyss, D. (2019). Improvements in the uncertainty model in the Goddard Institute for Space Studies Surface Temperature (GISTEMP) analysis. Journal of Geophysical Research: Atmospheres, 2018JD029522. https://doi.org/10.1029/2018JD029522\n",
    "\n",
    "Vose, R. S., Arndt, D., Banzon, V. F., Easterling, D. R., Gleason, B., Huang, B., … Wuertz, D. B. (2012). NOAA’s Merged Land–Ocean Surface Temperature Analysis. Bulletin of the American Meteorological Society, 93(11), 1677–1685. https://doi.org/10.1175/BAMS-D-11-00241.1\n",
    "\n",
    "Rohde, R. A., & Hausfather, Z. (2020). The Berkeley Earth Land/Ocean Temperature Record. Earth System Science Data, 12(4), 3469–3479. https://doi.org/10.5194/essd-12-3469-2020"
   ]
  },
  {
   "cell_type": "code",
   "execution_count": 12,
   "id": "detected-anniversary",
   "metadata": {
    "jupyter": {
     "source_hidden": true
    }
   },
   "outputs": [],
   "source": [
    "def get_GMST(select_dataset):\n",
    "\n",
    "    ## retrieve chosen dataset:\n",
    "    if select_dataset == 'HadCRUT5':\n",
    "        GMST = xr.open_dataset('../../aux/input-data/Temperature-observations/HadCRUT.5.0.1.0.analysis.ensemble_series.global.monthly.nc').tas.to_pandas().T\n",
    "        GMST.columns.name = 'HadCRUT5_obs_mem'\n",
    "\n",
    "    if select_dataset == 'HadCRUT4':\n",
    "        GMST = pd.concat([pd.read_csv(x,header=None,delim_whitespace=True,index_col=0,usecols=[0,1]).iloc[:,0] for x in sorted(glob.glob('../../aux/input-data/Temperature-observations/HadCRUT.4.6.0.0.monthly_ns_avg_realisations/*.txt'))],axis=1,keys=np.arange(100))\n",
    "        GMST.index = pd.to_datetime(GMST.index)\n",
    "        GMST.columns.name = 'HadCRUT4_obs_mem'\n",
    "\n",
    "    if select_dataset == 'NOAA':\n",
    "        GMST = pd.read_csv('../../aux/input-data/Temperature-observations/aravg.mon.land_ocean.90S.90N.v5.0.0.202101.asc',delim_whitespace=True,names=['date','month','anom','unc_full'],usecols=[0,1,2,3]).apply(pd.to_numeric)\n",
    "        GMST.index = pd.to_datetime(GMST.date.astype(str)+'-'+GMST.month.astype(str))\n",
    "        unc = xr.open_dataset('../../aux/input-data/Temperature-observations/HadCRUT.5.0.1.0.analysis.ensemble_series.global.monthly.nc').tas.to_pandas().T\n",
    "        unc = unc.sub(unc.median(axis=1),axis=0)\n",
    "        GMST = (unc.loc['1880':'2020']+GMST.sort_index().loc['1880':'2020',['anom']].values)\n",
    "        GMST.columns.name = 'HadCRUT5_obs_mem'\n",
    "\n",
    "    if select_dataset == 'GISTEMP':\n",
    "        GMST = pd.read_csv('../../aux/input-data/Temperature-observations/GLB.Ts+dSST.csv',skiprows=2,names=['year']+list(range(1,13)),usecols=range(13),index_col=0).unstack().reset_index()\n",
    "        GMST.index = pd.to_datetime(GMST.year.astype(str)+'-'+GMST.level_0.astype(str))\n",
    "        unc = xr.open_dataset('../../aux/input-data/Temperature-observations/HadCRUT.5.0.1.0.analysis.ensemble_series.global.monthly.nc').tas.to_pandas().T\n",
    "        unc = unc.sub(unc.median(axis=1),axis=0)\n",
    "        GMST = (unc.loc['1880':'2020']+GMST.sort_index().loc['1880':'2020',[0]].astype(float).values)\n",
    "        GMST.columns.name = 'HadCRUT5_obs_mem'\n",
    "\n",
    "    if select_dataset == 'CW':\n",
    "        GMST=pd.read_csv('../../aux/input-data/Temperature-observations/had4_krig_ensemble_v2_0_0.txt',delim_whitespace=True,index_col=0,names=['date']+list(range(100)))\n",
    "        GMST.index = pd.to_datetime(GMST.index.astype(int).astype(str)+'-'+np.ceil((GMST.index%1)*12).astype(int).astype(str))\n",
    "        # current version of the dataset has a null member at 32\n",
    "        GMST = GMST.drop(32,axis=1)\n",
    "        GMST.columns.name = 'CW_obs_mem'\n",
    "\n",
    "    if select_dataset == 'BERKELEY':\n",
    "        # NB this uses air temps above sea ice, not water temps\n",
    "        GMST = pd.read_csv('../../aux/input-data/Temperature-observations/Land_and_Ocean_complete.txt',skiprows=76,skipfooter=2057,delim_whitespace=True,usecols=[0,1,2,3],names=['date','month','anom','unc_full'])\n",
    "        GMST.index = pd.to_datetime(GMST.date.astype(str)+'-'+GMST.month.astype(str))\n",
    "        unc = xr.open_dataset('../../aux/input-data/Temperature-observations/HadCRUT.5.0.1.0.analysis.ensemble_series.global.monthly.nc').tas.to_pandas().T\n",
    "        unc = unc.sub(unc.median(axis=1),axis=0)\n",
    "        GMST = (unc.loc['1850':'2020']+GMST.sort_index().loc['1850':'2020',['anom']].values)\n",
    "        GMST.columns.name = 'HadCRUT5_obs_mem'\n",
    "        \n",
    "    return GMST"
   ]
  },
  {
   "cell_type": "code",
   "execution_count": 13,
   "id": "demanding-going",
   "metadata": {},
   "outputs": [],
   "source": [
    "def run_GWI(select_dataset,temp_ant,temp_nat):\n",
    "\n",
    "    GMST = get_GMST(select_dataset)\n",
    "\n",
    "    ## resample GMST to annual:\n",
    "\n",
    "    GMST = GMST.resample('y').mean()\n",
    "    GMST.index = GMST.index.year.astype(int)\n",
    "    GMST = GMST.loc[:2019]\n",
    "    \n",
    "    # regress temps vs observed temps\n",
    "    \n",
    "    ant_coefs = np.empty((GMST.shape[1],temp_ant.shape[1]))\n",
    "    nat_coefs = np.empty((GMST.shape[1],temp_nat.shape[1]))\n",
    "    R2_vals = np.empty((GMST.shape[1],temp_ant.shape[1]))\n",
    "\n",
    "    temp_vstack = np.array([temp_ant.loc[GMST.index].values,temp_nat.loc[GMST.index].values]).T\n",
    "\n",
    "    for i in tqdm(np.arange(ant_coefs.shape[1])):\n",
    "        _lreg = OLSE_NORM(temp_vstack[i],GMST.values)\n",
    "        ant_coefs[:,i] = _lreg['coefs'][0]\n",
    "        nat_coefs[:,i] = _lreg['coefs'][1]\n",
    "        R2_vals[:,i] = _lreg['R2']\n",
    "        \n",
    "    ## save results\n",
    "    \n",
    "    xr.DataArray(ant_coefs,\n",
    "                 dims=[GMST.columns.name,'index'],\n",
    "                 coords={GMST.columns.name:GMST.columns,'index':temp_ant.columns}).unstack('index').rename({'Scenario':'forcing_mem','Thermal set':'response_mem'}).to_netcdf('../../aux/output-data/global-warming-index/ant_coefs_forc_'+select_dataset+'.nc')\n",
    "\n",
    "    xr.DataArray(nat_coefs,\n",
    "                 dims=[GMST.columns.name,'index'],\n",
    "                 coords={GMST.columns.name:GMST.columns,'index':temp_nat.columns}).unstack('index').rename({'Scenario':'forcing_mem','Thermal set':'response_mem'}).to_netcdf('../../aux/output-data/global-warming-index/nat_coefs_forc_'+select_dataset+'.nc')\n",
    "    \n",
    "    xr.DataArray(R2_vals,\n",
    "                 dims=[GMST.columns.name,'index'],\n",
    "                 coords={GMST.columns.name:GMST.columns,'index':temp_nat.columns}).unstack('index').rename({'Scenario':'forcing_mem','Thermal set':'response_mem'}).to_netcdf('../../aux/output-data/global-warming-index/R2_forc_'+select_dataset+'.nc')\n",
    "    \n",
    "    \n",
    "    ## regress temps vs IV\n",
    "    \n",
    "    ant_coefs_iv = np.empty((CMIP6_int_var_samples_nondeg.shape[1],temp_ant.shape[1]))\n",
    "    nat_coefs_iv = np.empty((CMIP6_int_var_samples_nondeg.shape[1],temp_nat.shape[1]))\n",
    "    R2_vals_iv = np.empty((CMIP6_int_var_samples_nondeg.shape[1],temp_nat.shape[1]))\n",
    "    \n",
    "    IV_regress = CMIP6_int_var_samples_nondeg.loc[GMST.index].values\n",
    "\n",
    "    for i in tqdm(np.arange(ant_coefs_iv.shape[1])):\n",
    "        _lreg = OLSE_NORM(temp_vstack[i],IV_regress)\n",
    "        ant_coefs_iv[:,i] = _lreg['coefs'][0]\n",
    "        nat_coefs_iv[:,i] = _lreg['coefs'][1]\n",
    "        R2_vals_iv[:,i] = _lreg['R2']\n",
    "        \n",
    "    \n",
    "    xr.DataArray(ant_coefs_iv,\n",
    "                 dims=['int_var_mem','index'],\n",
    "                 coords={'int_var_mem':CMIP6_int_var_samples_nondeg.columns,'index':temp_ant.columns}).unstack('index').rename({'Scenario':'forcing_mem','Thermal set':'response_mem'}).to_netcdf('../../aux/output-data/global-warming-index/ant_coefs_IV_'+select_dataset+'.nc')\n",
    "\n",
    "    xr.DataArray(nat_coefs_iv,\n",
    "                 dims=['int_var_mem','index'],\n",
    "                 coords={'int_var_mem':CMIP6_int_var_samples_nondeg.columns,'index':temp_nat.columns}).unstack('index').rename({'Scenario':'forcing_mem','Thermal set':'response_mem'}).to_netcdf('../../aux/output-data/global-warming-index/nat_coefs_IV_'+select_dataset+'.nc')\n",
    "    \n",
    "    xr.DataArray(R2_vals_iv,\n",
    "                 dims=['int_var_mem','index'],\n",
    "                 coords={'int_var_mem':CMIP6_int_var_samples_nondeg.columns,'index':temp_nat.columns}).unstack('index').rename({'Scenario':'forcing_mem','Thermal set':'response_mem'}).to_netcdf('../../aux/output-data/global-warming-index/R2_IV_'+select_dataset+'.nc')"
   ]
  },
  {
   "cell_type": "code",
   "execution_count": 14,
   "id": "thrown-apartment",
   "metadata": {},
   "outputs": [
    {
     "name": "stdout",
     "output_type": "stream",
     "text": [
      "calculating GWI for HadCRUT5\n"
     ]
    },
    {
     "name": "stderr",
     "output_type": "stream",
     "text": [
      "  0%|          | 0/90000 [00:00<?, ?it/s]"
     ]
    },
    {
     "name": "stderr",
     "output_type": "stream",
     "text": [
      "100%|██████████| 90000/90000 [00:36<00:00, 2445.78it/s]\n",
      "100%|██████████| 90000/90000 [00:22<00:00, 4048.59it/s]\n"
     ]
    },
    {
     "name": "stdout",
     "output_type": "stream",
     "text": [
      "calculating GWI for HadCRUT4\n"
     ]
    },
    {
     "name": "stderr",
     "output_type": "stream",
     "text": [
      "100%|██████████| 90000/90000 [00:24<00:00, 3703.19it/s]\n",
      "100%|██████████| 90000/90000 [00:22<00:00, 4041.15it/s]\n"
     ]
    },
    {
     "name": "stdout",
     "output_type": "stream",
     "text": [
      "calculating GWI for NOAA\n"
     ]
    },
    {
     "name": "stderr",
     "output_type": "stream",
     "text": [
      "100%|██████████| 90000/90000 [00:31<00:00, 2857.80it/s]\n",
      "100%|██████████| 90000/90000 [00:20<00:00, 4487.33it/s]\n"
     ]
    },
    {
     "name": "stdout",
     "output_type": "stream",
     "text": [
      "calculating GWI for GISTEMP\n"
     ]
    },
    {
     "name": "stderr",
     "output_type": "stream",
     "text": [
      "100%|██████████| 90000/90000 [00:31<00:00, 2841.46it/s]\n",
      "100%|██████████| 90000/90000 [00:20<00:00, 4477.57it/s]\n"
     ]
    },
    {
     "name": "stdout",
     "output_type": "stream",
     "text": [
      "calculating GWI for CW\n"
     ]
    },
    {
     "name": "stderr",
     "output_type": "stream",
     "text": [
      "100%|██████████| 90000/90000 [00:23<00:00, 3786.61it/s]\n",
      "100%|██████████| 90000/90000 [00:23<00:00, 3886.66it/s]\n"
     ]
    },
    {
     "name": "stdout",
     "output_type": "stream",
     "text": [
      "calculating GWI for BERKELEY\n"
     ]
    },
    {
     "name": "stderr",
     "output_type": "stream",
     "text": [
      "/tmp/ipykernel_860561/3202696544.py:38: ParserWarning: Falling back to the 'python' engine because the 'c' engine does not support skipfooter; you can avoid this warning by specifying engine='python'.\n",
      "  GMST = pd.read_csv('../../aux/input-data/Temperature-observations/Land_and_Ocean_complete.txt',skiprows=76,skipfooter=2057,delim_whitespace=True,usecols=[0,1,2,3],names=['date','month','anom','unc_full'])\n",
      "100%|██████████| 90000/90000 [00:36<00:00, 2469.17it/s]\n",
      "100%|██████████| 90000/90000 [00:23<00:00, 3904.08it/s]\n"
     ]
    }
   ],
   "source": [
    "for select_dataset in ['HadCRUT5','HadCRUT4','NOAA','GISTEMP','CW','BERKELEY']:\n",
    "    print('calculating GWI for '+select_dataset)\n",
    "    run_GWI(select_dataset,temp_ant,temp_nat)"
   ]
  },
  {
   "cell_type": "markdown",
   "id": "occupied-apparatus",
   "metadata": {},
   "source": [
    "## Combine the different datasets & compute the rate of warming\n",
    "We do this for the anthropogenic component in isolation since that is what we use to constrain our perturbed parameter ensemble. Data is converted to single precision upon loading as double is overkill.\n",
    "\n",
    "We then subsample & save the resulting data as a numpy input file. *Recommend a kernel restart before attempting this.*"
   ]
  },
  {
   "cell_type": "code",
   "execution_count": 15,
   "id": "verified-sitting",
   "metadata": {},
   "outputs": [],
   "source": [
    "## get temperature timeseries\n",
    "ant_temps = xr.open_dataarray('../../aux/output-data/global-warming-index/ant_temperature.nc',chunks={'forcing_mem':100})\n",
    "T_2010_2019 = (ant_temps.sel(time=slice('2010','2019')).mean('time')-ant_temps.sel(time=slice('1850','1900')).mean('time')).astype(np.single)\n",
    "dT_2010_2019 = ant_temps.sel(time=slice('2010','2019')).assign_coords(time=np.arange(10)).polyfit(dim='time',deg=1).polyfit_coefficients.sel(degree=1).astype(np.single)"
   ]
  },
  {
   "cell_type": "code",
   "execution_count": 16,
   "id": "functional-stations",
   "metadata": {},
   "outputs": [],
   "source": [
    "## load scaling coefficients and compute level/rate (very memory intensive)\n",
    "\n",
    "# 500 million member subsamples to start = 2GB on disk per quantity\n",
    "sub_size = int(5e8)\n",
    "subsamples={}\n",
    "## HadCRUT5 subsample\n",
    "subsamples['HadCRUT5_obs_mem'] = np.random.choice(5000*102*18*200,sub_size)\n",
    "## HadCRUT4 subsample\n",
    "subsamples['HadCRUT4_obs_mem'] = np.random.choice(5000*102*18*100,sub_size)\n",
    "## CW subsample\n",
    "subsamples['CW_obs_mem'] = np.random.choice(5000*102*18*99,sub_size)\n",
    "\n",
    "\n",
    "for select_dataset in ['HadCRUT5','HadCRUT4','NOAA','GISTEMP','CW','BERKELEY']:\n",
    "    ant_coefs = (xr.open_dataarray('../../aux/output-data/global-warming-index/ant_coefs_forc_'+select_dataset+'.nc',chunks={'forcing_mem':100}).astype(np.single)+\\\n",
    "                 xr.open_dataarray('../../aux/output-data/global-warming-index/ant_coefs_IV_'+select_dataset+'.nc',chunks={'forcing_mem':100}).astype(np.single))\n",
    "    \n",
    "    obsv_unc_source = ant_coefs.dims[0]\n",
    "    \n",
    "    np.save('../../aux/output-data/global-warming-index/results/T_2010-2019_'+select_dataset+'.npy',(T_2010_2019*ant_coefs).values.flatten()[subsamples[obsv_unc_source]])\n",
    "    np.save('../../aux/output-data/global-warming-index/results/dT_2010-2019_'+select_dataset+'.npy',(dT_2010_2019*ant_coefs).values.flatten()[subsamples[obsv_unc_source]])"
   ]
  },
  {
   "cell_type": "markdown",
   "id": "coastal-appendix",
   "metadata": {},
   "source": [
    "## Binning the anthropogenic warming index to constrain the FULL ensemble\n",
    "\n",
    "In this final step, we bin the 2d distribution of 2010-19 level/rate of anthropogenic warming. These counts within these bins are our estimate of the likelihood of a particular region of the space. We use this likelihood estimate to generate probabilities of each member of the FULL perturbed parameter ensemble (based on their location in the space).\n",
    "\n",
    "We use a binning procedure, rather than (for example) a kernel-density estimate as the size of the AWI sample is such that other methods are far too inefficient."
   ]
  },
  {
   "cell_type": "code",
   "execution_count": 5,
   "id": "forward-ground",
   "metadata": {},
   "outputs": [],
   "source": [
    "FULL_metrics = pd.read_hdf('../../aux/parameter-sets/perturbed-parameters/FULL_ANT.h5')\n",
    "\n",
    "FULL_level = FULL_metrics.T_2010_2019 - FULL_metrics.T_1850_1900\n",
    "FULL_rate = FULL_metrics.dT_2010_2019\n",
    "\n",
    "# ALT_metrics = pd.read_hdf('../../aux/parameter-sets/perturbed-parameters/ALT_ANT.h5')\n",
    "\n",
    "# ALT_level = ALT_metrics.T_2010_2019 - ALT_metrics.T_1850_1900\n",
    "# ALT_rate = ALT_metrics.dT_2010_2019"
   ]
  },
  {
   "cell_type": "code",
   "execution_count": 6,
   "id": "eleven-sierra",
   "metadata": {},
   "outputs": [],
   "source": [
    "## choose resolution of bins here (delibarately large bins)\n",
    "level_bins = np.arange(-0.2,1.8,0.01)\n",
    "rate_bins = np.arange(-0.05,0.1,0.001)"
   ]
  },
  {
   "cell_type": "code",
   "execution_count": null,
   "id": "1bed0d93",
   "metadata": {},
   "outputs": [],
   "source": [
    "# for select_dataset in ['HadCRUT5','HadCRUT4','NOAA','GISTEMP','CW','BERKELEY']:\n",
    "    \n",
    "#     ## import the pre-computed AWI level & rate\n",
    "#     warming_level = np.load('../../aux/output-data/global-warming-index/results/T_2010-2019_'+select_dataset+'.npy')\n",
    "#     warming_rate = np.load('../../aux/output-data/global-warming-index/results/dT_2010-2019_'+select_dataset+'.npy')\n",
    "    \n",
    "#     ## bin the data in 2d\n",
    "#     AWI_binned = sp.stats.binned_statistic_2d(warming_level,warming_rate,None,'count',bins=[level_bins,rate_bins])\n",
    "#     AWI_likelihood = AWI_binned.statistic / AWI_binned.statistic.max()\n",
    "    \n",
    "#     ## create a dataseries to store the member probabilities\n",
    "#     FULL_probabilities = pd.Series(index=FULL_rate.index,dtype=float)\n",
    "#     ALT_probabilities = pd.Series(index=ALT_rate.index,dtype=float)\n",
    "    \n",
    "#     ## set values outside the AWI max/min values to have 0 probability\n",
    "#     FULL_probabilities.loc[(FULL_level>warming_level.max())|(FULL_level<-warming_level.min())|(FULL_rate>warming_rate.max())|(FULL_rate<warming_rate.min())] = 0\n",
    "#     ALT_probabilities.loc[(ALT_level>warming_level.max())|(ALT_level<-warming_level.min())|(ALT_rate>warming_rate.max())|(ALT_rate<warming_rate.min())] = 0\n",
    "\n",
    "#     FULL_binned = sp.stats.binned_statistic_2d(FULL_level.loc[FULL_probabilities.isna()],FULL_rate.loc[FULL_probabilities.isna()],None,'count',bins=[level_bins,rate_bins],expand_binnumbers=True)\n",
    "#     ALT_binned = sp.stats.binned_statistic_2d(ALT_level.loc[ALT_probabilities.isna()],ALT_rate.loc[ALT_probabilities.isna()],None,'count',bins=[level_bins,rate_bins],expand_binnumbers=True)\n",
    "    \n",
    "#     ## have to reduce binnumbers by 2 as scipy adds one boundary bin, and bins start from 1\n",
    "#     FULL_probabilities.loc[FULL_probabilities.isna()] = AWI_likelihood[FULL_binned.binnumber[0]-2,FULL_binned.binnumber[1]-2]\n",
    "#     ALT_probabilities.loc[ALT_probabilities.isna()] = AWI_likelihood[ALT_binned.binnumber[0]-2,ALT_binned.binnumber[1]-2]\n",
    "    \n",
    "#     ## save the probabilities\n",
    "#     FULL_probabilities.to_hdf(r'../../aux/parameter-sets/perturbed-parameters/FULL_selection_probability-'+select_dataset+'.h5', key='stage', mode='w')\n",
    "#     ALT_probabilities.to_hdf(r'../../aux/parameter-sets/perturbed-parameters/ALT_selection_probability-'+select_dataset+'.h5', key='stage', mode='w')"
   ]
  },
  {
   "cell_type": "code",
   "execution_count": 7,
   "id": "animated-influence",
   "metadata": {},
   "outputs": [],
   "source": [
    "for select_dataset in ['HadCRUT5','HadCRUT4','NOAA','GISTEMP','CW','BERKELEY']:\n",
    "    print('calculating selection probabilities for '+select_dataset)\n",
    "    \n",
    "    ## import the pre-computed AWI level & rate\n",
    "    warming_level = np.load('../../aux/output-data/global-warming-index/results/T_2010-2019_'+select_dataset+'.npy')\n",
    "    warming_rate = np.load('../../aux/output-data/global-warming-index/results/dT_2010-2019_'+select_dataset+'.npy')\n",
    "    \n",
    "    ## bin the data in 2d\n",
    "    AWI_binned = sp.stats.binned_statistic_2d(warming_level,warming_rate,None,'count',bins=[level_bins,rate_bins])\n",
    "    AWI_likelihood = AWI_binned.statistic / AWI_binned.statistic.max()\n",
    "    \n",
    "    ## create a dataseries to store the member probabilities\n",
    "    FULL_probabilities = pd.Series(index=FULL_rate.index,dtype=float)\n",
    "    # ALT_probabilities = pd.Series(index=ALT_rate.index,dtype=float)\n",
    "    \n",
    "    ## set values outside the AWI max/min values to have 0 probability\n",
    "    FULL_probabilities.loc[(FULL_level>warming_level.max())|(FULL_level<-warming_level.min())|(FULL_rate>warming_rate.max())|(FULL_rate<warming_rate.min())] = 0\n",
    "    # ALT_probabilities.loc[(ALT_level>warming_level.max())|(ALT_level<-warming_level.min())|(ALT_rate>warming_rate.max())|(ALT_rate<warming_rate.min())] = 0\n",
    "\n",
    "    FULL_binned = sp.stats.binned_statistic_2d(FULL_level.loc[FULL_probabilities.isna()],FULL_rate.loc[FULL_probabilities.isna()],None,'count',bins=[level_bins,rate_bins],expand_binnumbers=True)\n",
    "    # ALT_binned = sp.stats.binned_statistic_2d(ALT_level.loc[ALT_probabilities.isna()],ALT_rate.loc[ALT_probabilities.isna()],None,'count',bins=[level_bins,rate_bins],expand_binnumbers=True)\n",
    "    \n",
    "    ## have to reduce binnumbers by 2 as scipy adds one boundary bin, and bins start from 1\n",
    "    FULL_probabilities.loc[FULL_probabilities.isna()] = AWI_likelihood[FULL_binned.binnumber[0]-2,FULL_binned.binnumber[1]-2]\n",
    "    # ALT_probabilities.loc[ALT_probabilities.isna()] = AWI_likelihood[ALT_binned.binnumber[0]-2,ALT_binned.binnumber[1]-2]\n",
    "    \n",
    "    ## save the probabilities\n",
    "    FULL_probabilities.to_hdf(r'../../aux/parameter-sets/perturbed-parameters/FULL_selection_probability-'+select_dataset+'.h5', key='stage', mode='w')\n",
    "    # ALT_probabilities.to_hdf(r'../../aux/parameter-sets/perturbed-parameters/ALT_selection_probability-'+select_dataset+'.h5', key='stage', mode='w')"
   ]
  },
  {
   "cell_type": "markdown",
   "id": "weekly-capability",
   "metadata": {},
   "source": [
    "### Small note on the constrained ensemble\n",
    "Here we have constrained against anthropogenic induced warming. However, if any natural forcings added to FaIR are biased high or low (we know in general they are biased high relative to what optimal fingerprinting suggests, since the natural coefficients within the global warming index calculation here tend to be $<<1$), the resulting temperature output will also be biased high or low. This happens in the `SSP-simulations` notebook: the full-forcing 2010-2019 temperature change over a 1850-1900 baseline is roughly 0.07 K higher than the anthropogenic-forcing only temperature change."
   ]
  },
  {
   "cell_type": "markdown",
   "id": "informative-netscape",
   "metadata": {},
   "source": [
    "### little tool to help visualise the 2d distribution (takes a little while)\n",
    "\n",
    "Each contour level represents an increase in likelihood of 0.1\n",
    "\n",
    "*quite memory intensive*"
   ]
  },
  {
   "cell_type": "code",
   "execution_count": 22,
   "id": "essential-grace",
   "metadata": {},
   "outputs": [
    {
     "data": {
      "image/png": "[encoded data removed]",
      "text/plain": [
       "<Figure size 720x720 with 3 Axes>"
      ]
     },
     "metadata": {
      "needs_background": "light"
     },
     "output_type": "display_data"
    }
   ],
   "source": [
    "select_dataset = 'CW'\n",
    "\n",
    "warming_level = np.load('../../aux/output-data/global-warming-index/results/T_2010-2019_'+select_dataset+'.npy')\n",
    "warming_rate = np.load('../../aux/output-data/global-warming-index/results/dT_2010-2019_'+select_dataset+'.npy')\n",
    "\n",
    "level_bins = np.arange(-0.2,1.8,0.01)\n",
    "rate_bins = np.arange(-0.05,0.1,0.001)\n",
    "AWI_binned = sp.stats.binned_statistic_2d(warming_level,warming_rate,None,'count',bins=[level_bins,rate_bins])\n",
    "\n",
    "fig = plt.figure(figsize=(10,10))\n",
    "gs = fig.add_gridspec(5,5,hspace=0,wspace=0)\n",
    "joint_ax = fig.add_subplot(gs[1:,:4])\n",
    "margx_ax = fig.add_subplot(gs[0,:4])\n",
    "margy_ax = fig.add_subplot(gs[1:,4])\n",
    "\n",
    "joint_ax.contourf((AWI_binned.x_edge[:-1]+AWI_binned.x_edge[1:])/2,\n",
    "             (AWI_binned.y_edge[:-1]+AWI_binned.y_edge[1:])/2,\n",
    "             AWI_binned.statistic.T/AWI_binned.statistic.max(),\n",
    "             levels=np.linspace(0,1,11),\n",
    "             cmap='binary')\n",
    "\n",
    "margx_ax.hist(warming_level,bins=level_bins,color='k',histtype='step')\n",
    "margy_ax.hist(warming_rate,bins=rate_bins,color='k',histtype='step',orientation='horizontal')\n",
    "\n",
    "[a.set_xlim(0,1.5) for a in [joint_ax,margx_ax]]\n",
    "[a.set_ylim(0,0.08) for a in [joint_ax,margy_ax]]\n",
    "\n",
    "joint_ax.set_xlabel('2010-2019 level of anthropogenic warming / K')\n",
    "joint_ax.set_ylabel('2010-2019 rate of anthropogenic warming / K year$^{-1}$')\n",
    "\n",
    "margx_ax.set_axis_off()\n",
    "margy_ax.set_axis_off()"
   ]
  },
  {
   "cell_type": "markdown",
   "id": "bearing-brick",
   "metadata": {},
   "source": [
    "## Appendix I. Natural warming index\n",
    "Here we calculate the estimated natural contributions to the present level of warming, for comparison with the all-forcing CONSTRAINED ensemble."
   ]
  },
  {
   "cell_type": "code",
   "execution_count": 23,
   "id": "closing-stylus",
   "metadata": {},
   "outputs": [],
   "source": [
    "## get temperature timeseries\n",
    "nat_temps = xr.open_dataarray('../../aux/output-data/global-warming-index/nat_temperature.nc',chunks={'forcing_mem':100})\n",
    "nat_T_2010_2019 = (nat_temps.sel(time=slice('2010','2019')).mean('time')-nat_temps.sel(time=slice('1850','1900')).mean('time')).astype(np.single)"
   ]
  },
  {
   "cell_type": "code",
   "execution_count": 24,
   "id": "smoking-grove",
   "metadata": {},
   "outputs": [],
   "source": [
    "## load scaling coefficients and compute level/rate (very memory intensive)\n",
    "\n",
    "# 500 million member subsamples to start = 2GB on disk per quantity\n",
    "sub_size = int(5e8)\n",
    "subsamples={}\n",
    "## HadCRUT5 subsample\n",
    "subsamples['HadCRUT5_obs_mem'] = np.random.choice(5000*102*18*200,sub_size)\n",
    "## HadCRUT4 subsample\n",
    "subsamples['HadCRUT4_obs_mem'] = np.random.choice(5000*102*18*100,sub_size)\n",
    "## CW subsample\n",
    "subsamples['CW_obs_mem'] = np.random.choice(5000*102*18*99,sub_size)\n",
    "\n",
    "\n",
    "for select_dataset in ['HadCRUT5','HadCRUT4','NOAA','GISTEMP','CW','BERKELEY']:\n",
    "    nat_coefs = (xr.open_dataarray('../../aux/output-data/global-warming-index/nat_coefs_forc_'+select_dataset+'.nc',chunks={'forcing_mem':100}).astype(np.single)+\\\n",
    "                 xr.open_dataarray('../../aux/output-data/global-warming-index/nat_coefs_IV_'+select_dataset+'.nc',chunks={'forcing_mem':100}).astype(np.single))\n",
    "    \n",
    "    obsv_unc_source = nat_coefs.dims[0]\n",
    "    \n",
    "    np.save('../../aux/output-data/global-warming-index/results/T_2010-2019_'+select_dataset+'_nat.npy',(nat_T_2010_2019*nat_coefs).values.flatten()[subsamples[obsv_unc_source]])"
   ]
  },
  {
   "cell_type": "markdown",
   "id": "cosmetic-artist",
   "metadata": {},
   "source": [
    "mean natural contribution to the present-day warming level"
   ]
  },
  {
   "cell_type": "code",
   "execution_count": 25,
   "id": "curious-manor",
   "metadata": {},
   "outputs": [
    {
     "data": {
      "text/plain": [
       "0.039254628"
      ]
     },
     "execution_count": 25,
     "metadata": {},
     "output_type": "execute_result"
    }
   ],
   "source": [
    "np.mean([np.load(x).mean() for x in glob.glob('../../aux/output-data/global-warming-index/results/T*nat.npy')])"
   ]
  }
 ],
 "metadata": {
  "kernelspec": {
   "display_name": "test_env_2_leach",
   "language": "python",
   "name": "test_env_2_leach"
  }
 },
 "nbformat": 4,
 "nbformat_minor": 5
}
